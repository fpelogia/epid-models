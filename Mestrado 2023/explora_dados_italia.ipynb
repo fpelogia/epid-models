{
 "cells": [
  {
   "attachments": {},
   "cell_type": "markdown",
   "metadata": {},
   "source": [
    "## Explora dados da Itália"
   ]
  },
  {
   "attachments": {},
   "cell_type": "markdown",
   "metadata": {},
   "source": [
    "### A nível de região"
   ]
  },
  {
   "cell_type": "code",
   "execution_count": 1,
   "metadata": {},
   "outputs": [],
   "source": [
    "import numpy as np\n",
    "import pandas as pd\n",
    "import matplotlib.pyplot as plt"
   ]
  },
  {
   "cell_type": "code",
   "execution_count": 3,
   "metadata": {},
   "outputs": [],
   "source": [
    "data = pd.read_json('/home/fpelogia/Documentos/HMP/Italia/dpc-covid19-ita-regioni.json')"
   ]
  },
  {
   "cell_type": "code",
   "execution_count": 18,
   "metadata": {},
   "outputs": [
    {
     "data": {
      "text/html": [
       "<div>\n",
       "<style scoped>\n",
       "    .dataframe tbody tr th:only-of-type {\n",
       "        vertical-align: middle;\n",
       "    }\n",
       "\n",
       "    .dataframe tbody tr th {\n",
       "        vertical-align: top;\n",
       "    }\n",
       "\n",
       "    .dataframe thead th {\n",
       "        text-align: right;\n",
       "    }\n",
       "</style>\n",
       "<table border=\"1\" class=\"dataframe\">\n",
       "  <thead>\n",
       "    <tr style=\"text-align: right;\">\n",
       "      <th></th>\n",
       "      <th>data</th>\n",
       "      <th>stato</th>\n",
       "      <th>codice_regione</th>\n",
       "      <th>denominazione_regione</th>\n",
       "      <th>lat</th>\n",
       "      <th>long</th>\n",
       "      <th>ricoverati_con_sintomi</th>\n",
       "      <th>terapia_intensiva</th>\n",
       "      <th>totale_ospedalizzati</th>\n",
       "      <th>isolamento_domiciliare</th>\n",
       "      <th>...</th>\n",
       "      <th>note</th>\n",
       "      <th>ingressi_terapia_intensiva</th>\n",
       "      <th>note_test</th>\n",
       "      <th>note_casi</th>\n",
       "      <th>totale_positivi_test_molecolare</th>\n",
       "      <th>totale_positivi_test_antigenico_rapido</th>\n",
       "      <th>tamponi_test_molecolare</th>\n",
       "      <th>tamponi_test_antigenico_rapido</th>\n",
       "      <th>codice_nuts_1</th>\n",
       "      <th>codice_nuts_2</th>\n",
       "    </tr>\n",
       "  </thead>\n",
       "  <tbody>\n",
       "    <tr>\n",
       "      <th>0</th>\n",
       "      <td>2020-02-24T18:00:00</td>\n",
       "      <td>ITA</td>\n",
       "      <td>13</td>\n",
       "      <td>Abruzzo</td>\n",
       "      <td>42.351222</td>\n",
       "      <td>13.398438</td>\n",
       "      <td>0</td>\n",
       "      <td>0</td>\n",
       "      <td>0</td>\n",
       "      <td>0</td>\n",
       "      <td>...</td>\n",
       "      <td>None</td>\n",
       "      <td>NaN</td>\n",
       "      <td>None</td>\n",
       "      <td>None</td>\n",
       "      <td>NaN</td>\n",
       "      <td>NaN</td>\n",
       "      <td>NaN</td>\n",
       "      <td>NaN</td>\n",
       "      <td>None</td>\n",
       "      <td>None</td>\n",
       "    </tr>\n",
       "  </tbody>\n",
       "</table>\n",
       "<p>1 rows × 30 columns</p>\n",
       "</div>"
      ],
      "text/plain": [
       "                  data stato  codice_regione denominazione_regione        lat  \\\n",
       "0  2020-02-24T18:00:00   ITA              13               Abruzzo  42.351222   \n",
       "\n",
       "        long  ricoverati_con_sintomi  terapia_intensiva  totale_ospedalizzati  \\\n",
       "0  13.398438                       0                  0                     0   \n",
       "\n",
       "   isolamento_domiciliare  ...  note  ingressi_terapia_intensiva  note_test  \\\n",
       "0                       0  ...  None                         NaN       None   \n",
       "\n",
       "   note_casi  totale_positivi_test_molecolare  \\\n",
       "0       None                              NaN   \n",
       "\n",
       "   totale_positivi_test_antigenico_rapido  tamponi_test_molecolare  \\\n",
       "0                                     NaN                      NaN   \n",
       "\n",
       "   tamponi_test_antigenico_rapido  codice_nuts_1  codice_nuts_2  \n",
       "0                             NaN           None           None  \n",
       "\n",
       "[1 rows x 30 columns]"
      ]
     },
     "execution_count": 18,
     "metadata": {},
     "output_type": "execute_result"
    }
   ],
   "source": [
    "data.head(1)"
   ]
  },
  {
   "cell_type": "code",
   "execution_count": 17,
   "metadata": {},
   "outputs": [
    {
     "data": {
      "text/plain": [
       "array(['data', 'stato', 'codice_regione', 'denominazione_regione', 'lat',\n",
       "       'long', 'ricoverati_con_sintomi', 'terapia_intensiva',\n",
       "       'totale_ospedalizzati', 'isolamento_domiciliare',\n",
       "       'totale_positivi', 'variazione_totale_positivi', 'nuovi_positivi',\n",
       "       'dimessi_guariti', 'deceduti', 'casi_da_sospetto_diagnostico',\n",
       "       'casi_da_screening', 'totale_casi', 'tamponi', 'casi_testati',\n",
       "       'note', 'ingressi_terapia_intensiva', 'note_test', 'note_casi',\n",
       "       'totale_positivi_test_molecolare',\n",
       "       'totale_positivi_test_antigenico_rapido',\n",
       "       'tamponi_test_molecolare', 'tamponi_test_antigenico_rapido',\n",
       "       'codice_nuts_1', 'codice_nuts_2'], dtype=object)"
      ]
     },
     "execution_count": 17,
     "metadata": {},
     "output_type": "execute_result"
    }
   ],
   "source": [
    "columns = np.array(data.columns)\n",
    "columns"
   ]
  },
  {
   "attachments": {},
   "cell_type": "markdown",
   "metadata": {},
   "source": [
    "Tradução\n",
    "\n",
    "['date', 'status', 'region_code', 'region_name', 'lat',\n",
    "       'long', 'hospitalized_with_symptoms', 'intensive_care',\n",
    "       'total_hospitalized', 'home_isolation',\n",
    "       'total_positive', 'change_total_positive', 'new_positive',\n",
    "       'discharged_healed', 'deceased', 'cases_from_diagnostic_suspicion',\n",
    "       'cases_from_screening', 'total_cases', 'swabs', 'cases_tested',\n",
    "       'notes', 'intensive_therapy_inputs', 'notes_test', 'notes_cases',\n",
    "       'total_positive_test_molecular',\n",
    "       'total_positive_antigenic_rapid_test',\n",
    "       'swabs_molecular_test', 'swabs_antigenic_rapid_test',\n",
    "       'code_nuts_1', 'code_nuts_2']"
   ]
  },
  {
   "cell_type": "code",
   "execution_count": 39,
   "metadata": {},
   "outputs": [],
   "source": [
    "cols_to_keep = ['data', 'denominazione_regione', 'ricoverati_con_sintomi', 'terapia_intensiva', 'totale_ospedalizzati', 'totale_positivi', 'variazione_totale_positivi', 'nuovi_positivi', 'deceduti', 'totale_casi', 'ingressi_terapia_intensiva']\n",
    "cols_to_drop = [col for col in columns if col not in cols_to_keep]\n",
    "data_regions = data.drop(columns = cols_to_drop)"
   ]
  },
  {
   "cell_type": "code",
   "execution_count": 41,
   "metadata": {},
   "outputs": [
    {
     "data": {
      "text/plain": [
       "array(['Abruzzo', 'Basilicata', 'Calabria', 'Campania', 'Emilia-Romagna',\n",
       "       'Friuli Venezia Giulia', 'Lazio', 'Liguria', 'Lombardia', 'Marche',\n",
       "       'Molise', 'P.A. Bolzano', 'P.A. Trento', 'Piemonte', 'Puglia',\n",
       "       'Sardegna', 'Sicilia', 'Toscana', 'Umbria', \"Valle d'Aosta\",\n",
       "       'Veneto'], dtype=object)"
      ]
     },
     "execution_count": 41,
     "metadata": {},
     "output_type": "execute_result"
    }
   ],
   "source": [
    "data_regions['denominazione_regione'].unique()"
   ]
  },
  {
   "cell_type": "code",
   "execution_count": 93,
   "metadata": {},
   "outputs": [
    {
     "data": {
      "text/html": [
       "<div>\n",
       "<style scoped>\n",
       "    .dataframe tbody tr th:only-of-type {\n",
       "        vertical-align: middle;\n",
       "    }\n",
       "\n",
       "    .dataframe tbody tr th {\n",
       "        vertical-align: top;\n",
       "    }\n",
       "\n",
       "    .dataframe thead th {\n",
       "        text-align: right;\n",
       "    }\n",
       "</style>\n",
       "<table border=\"1\" class=\"dataframe\">\n",
       "  <thead>\n",
       "    <tr style=\"text-align: right;\">\n",
       "      <th></th>\n",
       "      <th>data</th>\n",
       "      <th>denominazione_regione</th>\n",
       "      <th>ricoverati_con_sintomi</th>\n",
       "      <th>terapia_intensiva</th>\n",
       "      <th>totale_ospedalizzati</th>\n",
       "      <th>totale_positivi</th>\n",
       "      <th>variazione_totale_positivi</th>\n",
       "      <th>nuovi_positivi</th>\n",
       "      <th>deceduti</th>\n",
       "      <th>totale_casi</th>\n",
       "      <th>ingressi_terapia_intensiva</th>\n",
       "    </tr>\n",
       "  </thead>\n",
       "  <tbody>\n",
       "    <tr>\n",
       "      <th>29</th>\n",
       "      <td>2020-02-25T18:00:00</td>\n",
       "      <td>Lombardia</td>\n",
       "      <td>79</td>\n",
       "      <td>25</td>\n",
       "      <td>104</td>\n",
       "      <td>231</td>\n",
       "      <td>65</td>\n",
       "      <td>68</td>\n",
       "      <td>9</td>\n",
       "      <td>240</td>\n",
       "      <td>NaN</td>\n",
       "    </tr>\n",
       "    <tr>\n",
       "      <th>50</th>\n",
       "      <td>2020-02-26T18:00:00</td>\n",
       "      <td>Lombardia</td>\n",
       "      <td>79</td>\n",
       "      <td>25</td>\n",
       "      <td>104</td>\n",
       "      <td>249</td>\n",
       "      <td>18</td>\n",
       "      <td>18</td>\n",
       "      <td>9</td>\n",
       "      <td>258</td>\n",
       "      <td>NaN</td>\n",
       "    </tr>\n",
       "    <tr>\n",
       "      <th>71</th>\n",
       "      <td>2020-02-27T18:00:00</td>\n",
       "      <td>Lombardia</td>\n",
       "      <td>172</td>\n",
       "      <td>41</td>\n",
       "      <td>213</td>\n",
       "      <td>349</td>\n",
       "      <td>100</td>\n",
       "      <td>145</td>\n",
       "      <td>14</td>\n",
       "      <td>403</td>\n",
       "      <td>NaN</td>\n",
       "    </tr>\n",
       "  </tbody>\n",
       "</table>\n",
       "</div>"
      ],
      "text/plain": [
       "                   data denominazione_regione  ricoverati_con_sintomi  \\\n",
       "29  2020-02-25T18:00:00             Lombardia                      79   \n",
       "50  2020-02-26T18:00:00             Lombardia                      79   \n",
       "71  2020-02-27T18:00:00             Lombardia                     172   \n",
       "\n",
       "    terapia_intensiva  totale_ospedalizzati  totale_positivi  \\\n",
       "29                 25                   104              231   \n",
       "50                 25                   104              249   \n",
       "71                 41                   213              349   \n",
       "\n",
       "    variazione_totale_positivi  nuovi_positivi  deceduti  totale_casi  \\\n",
       "29                          65              68         9          240   \n",
       "50                          18              18         9          258   \n",
       "71                         100             145        14          403   \n",
       "\n",
       "    ingressi_terapia_intensiva  \n",
       "29                         NaN  \n",
       "50                         NaN  \n",
       "71                         NaN  "
      ]
     },
     "execution_count": 93,
     "metadata": {},
     "output_type": "execute_result"
    }
   ],
   "source": [
    "data_lombardy = data_regions[data_regions['denominazione_regione'] == \"Lombardia\"]\n",
    "data_lombardy = data_lombardy[np.logical_and(data_lombardy.data >= '2020-02-25', data_lombardy.data <= '2020-04-03')]\n",
    "data_lombardy.head(3)"
   ]
  },
  {
   "cell_type": "code",
   "execution_count": null,
   "metadata": {},
   "outputs": [],
   "source": []
  },
  {
   "cell_type": "code",
   "execution_count": 94,
   "metadata": {},
   "outputs": [
    {
     "data": {
      "image/png": "[encoded data removed]",
      "text/plain": [
       "<Figure size 432x288 with 1 Axes>"
      ]
     },
     "metadata": {
      "needs_background": "light"
     },
     "output_type": "display_data"
    },
    {
     "data": {
      "image/png": "[encoded data removed]",
      "text/plain": [
       "<Figure size 432x288 with 1 Axes>"
      ]
     },
     "metadata": {
      "needs_background": "light"
     },
     "output_type": "display_data"
    }
   ],
   "source": [
    "plt.scatter(np.arange(0, len(data_lombardy['totale_ospedalizzati'])), data_lombardy['totale_ospedalizzati'])\n",
    "plt.show()\n",
    "plt.scatter(np.arange(0, len(data_lombardy['terapia_intensiva'])), data_lombardy['terapia_intensiva'])\n",
    "plt.show()"
   ]
  },
  {
   "cell_type": "code",
   "execution_count": null,
   "metadata": {},
   "outputs": [],
   "source": []
  },
  {
   "cell_type": "code",
   "execution_count": null,
   "metadata": {},
   "outputs": [],
   "source": []
  }
 ],
 "metadata": {
  "kernelspec": {
   "display_name": "Python 3",
   "language": "python",
   "name": "python3"
  },
  "language_info": {
   "codemirror_mode": {
    "name": "ipython",
    "version": 3
   },
   "file_extension": ".py",
   "mimetype": "text/x-python",
   "name": "python",
   "nbconvert_exporter": "python",
   "pygments_lexer": "ipython3",
   "version": "3.9.2"
  },
  "orig_nbformat": 4
 },
 "nbformat": 4,
 "nbformat_minor": 2
}
