{
 "cells": [
  {
   "cell_type": "code",
   "execution_count": null,
   "metadata": {},
   "outputs": [],
   "source": [
    "import numpy as np\n",
    "import pandas as pd\n",
    "import matplotlib.pyplot as plt\n",
    "#from optimize import fit_data\n",
    "import optimize\n",
    "from new_wave import get_transition_points"
   ]
  },
  {
   "cell_type": "code",
   "execution_count": null,
   "metadata": {},
   "outputs": [],
   "source": [
    "# Import data\n",
    "data = pd.read_csv(\"../Datasets/normandy_hosp.csv\") \n",
    "city_name = 'Normandy' \n",
    "indicator='hospitalizations'"
   ]
  },
  {
   "cell_type": "code",
   "execution_count": null,
   "metadata": {},
   "outputs": [],
   "source": [
    "# try:\n",
    "#     #deaths\n",
    "#     acc_data = data.cumulative_deceased\n",
    "# except(AttributeError):\n",
    "#     # cases\n",
    "#     acc_data = data.total_confirmed\n",
    "\n",
    "# normalized_acc_data = acc_data / max(acc_data)\n",
    "# t = np.linspace(0, len(acc_data)-1, len(acc_data))\n",
    "\n",
    "# normalized_acc_data = normalized_acc_data.tolist()\n",
    "# daily_data = data.new_deceased.tolist()"
   ]
  },
  {
   "cell_type": "code",
   "execution_count": null,
   "metadata": {},
   "outputs": [],
   "source": [
    "daily_data = data.current_hospitalized_patients.tolist()\n",
    "acc_data = []\n",
    "for i in range(len(daily_data)):\n",
    "    acc_data.append(np.sum(daily_data[:i]))\n",
    "\n",
    "acc_data = np.array(acc_data)\n",
    "normalized_acc_data = acc_data / max(acc_data)\n",
    "t = np.linspace(0, len(acc_data)-1, len(acc_data))\n",
    "\n",
    "scaling_factor = 1\n",
    "\n",
    "acc_data = acc_data / scaling_factor\n",
    "daily_data = list(data.current_hospitalized_patients/ scaling_factor)\n"
   ]
  },
  {
   "cell_type": "code",
   "execution_count": null,
   "metadata": {},
   "outputs": [],
   "source": [
    "# Initial Conditions\n",
    "\n",
    "def initial_cond_0(y_t):\n",
    "    #A0 = 100\n",
    "    A0 = 1*max(y_t)\n",
    "    tp0 = (2/3)*len(y_t)\n",
    "    delta0 = (1/4)*len(y_t)\n",
    "    nu0 = 1\n",
    "    return [A0, tp0, delta0, nu0]\n",
    "\n",
    "optimize.initial_cond = initial_cond_0\n",
    "\n",
    "def update_cond_nw(A0, tp0):\n",
    "    tp0 += 110 \n",
    "    A0 *= 0.005\n",
    "    return [A0, tp0]\n",
    "optimize.update_cond = update_cond_nw"
   ]
  },
  {
   "cell_type": "code",
   "execution_count": null,
   "metadata": {},
   "outputs": [],
   "source": [
    "# Transition Points\n",
    "x_nw = get_transition_points(acc_data, visual=True, threshold=1e-6, indicator = indicator)[:4]\n",
    "\n",
    "sig_params = optimize.fit_data(acc_data, daily_data, city_name, x_nw, indicator = indicator, scaling_factor = scaling_factor)\n",
    "\n",
    "print('new_wave_detection: ', x_nw)"
   ]
  },
  {
   "cell_type": "code",
   "execution_count": null,
   "metadata": {},
   "outputs": [],
   "source": [
    "# Save model parameters\n",
    "#np.save(f'Pickle/{city_name}_{indicator}_parameters.npy', sig_params)"
   ]
  },
  {
   "cell_type": "code",
   "execution_count": null,
   "metadata": {},
   "outputs": [],
   "source": []
  }
 ],
 "metadata": {
  "kernelspec": {
   "display_name": "Python 3.9.2 64-bit",
   "language": "python",
   "name": "python3"
  },
  "language_info": {
   "codemirror_mode": {
    "name": "ipython",
    "version": 3
   },
   "file_extension": ".py",
   "mimetype": "text/x-python",
   "name": "python",
   "nbconvert_exporter": "python",
   "pygments_lexer": "ipython3",
   "version": "3.9.2"
  },
  "orig_nbformat": 4,
  "vscode": {
   "interpreter": {
    "hash": "916dbcbb3f70747c44a77c7bcd40155683ae19c65e1c03b4aa3499c5328201f1"
   }
  }
 },
 "nbformat": 4,
 "nbformat_minor": 2
}
