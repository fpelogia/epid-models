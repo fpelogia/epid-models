{
 "cells": [
  {
   "cell_type": "markdown",
   "id": "ea66f443",
   "metadata": {},
   "source": [
    "# Japão"
   ]
  },
  {
   "cell_type": "code",
   "execution_count": 1,
   "id": "plastic-title",
   "metadata": {},
   "outputs": [],
   "source": [
    "import pandas as pd\n",
    "import matplotlib.pyplot as plt\n",
    "data = pd.read_csv(\"../google_dataset/2022-10-05/epidemiology.csv\")\n",
    "ind = pd.read_csv(\"../google_dataset/2022-10-05/index.csv\")\n",
    "data = ind.merge(data)\n",
    "#data.to_csv(\"index_epid.csv\")"
   ]
  },
  {
   "cell_type": "code",
   "execution_count": 2,
   "id": "apart-attempt",
   "metadata": {},
   "outputs": [
    {
     "data": {
      "text/plain": [
       "Index(['location_key', 'place_id', 'wikidata_id', 'datacommons_id',\n",
       "       'country_code', 'country_name', 'subregion1_code', 'subregion1_name',\n",
       "       'subregion2_code', 'subregion2_name', 'locality_code', 'locality_name',\n",
       "       'iso_3166_1_alpha_2', 'iso_3166_1_alpha_3', 'aggregation_level', 'date',\n",
       "       'new_confirmed', 'new_deceased', 'new_recovered', 'new_tested',\n",
       "       'cumulative_confirmed', 'cumulative_deceased', 'cumulative_recovered',\n",
       "       'cumulative_tested'],\n",
       "      dtype='object')"
      ]
     },
     "execution_count": 2,
     "metadata": {},
     "output_type": "execute_result"
    }
   ],
   "source": [
    "data.columns"
   ]
  },
  {
   "cell_type": "code",
   "execution_count": 3,
   "id": "f3534b3f",
   "metadata": {},
   "outputs": [
    {
     "data": {
      "text/plain": [
       "0           2020-01-01\n",
       "1           2020-01-02\n",
       "2           2020-01-03\n",
       "3           2020-01-04\n",
       "4           2020-01-05\n",
       "               ...    \n",
       "12525820    2022-09-09\n",
       "12525821    2022-09-10\n",
       "12525822    2022-09-11\n",
       "12525823    2022-09-12\n",
       "12525824    2022-09-13\n",
       "Name: date, Length: 12525825, dtype: object"
      ]
     },
     "execution_count": 3,
     "metadata": {},
     "output_type": "execute_result"
    }
   ],
   "source": [
    "data.date"
   ]
  },
  {
   "cell_type": "code",
   "execution_count": 39,
   "id": "liked-investigator",
   "metadata": {},
   "outputs": [],
   "source": [
    "# A nível de país\n",
    "countries = data[data.aggregation_level == 0]\n",
    "countries = countries.drop(columns=['subregion1_code', 'subregion1_name', 'subregion2_code', 'subregion2_name'])\n"
   ]
  },
  {
   "cell_type": "code",
   "execution_count": 40,
   "id": "heavy-greeting",
   "metadata": {},
   "outputs": [
    {
     "data": {
      "text/plain": [
       "array(['Andorra', 'United Arab Emirates', 'Afghanistan',\n",
       "       'Antigua and Barbuda', 'Anguilla', 'Albania', 'Armenia', 'Angola',\n",
       "       'Argentina', 'American Samoa', 'Austria', 'Australia', 'Aruba',\n",
       "       'Azerbaijan', 'Bosnia and Herzegovina', 'Barbados', 'Bangladesh',\n",
       "       'Belgium', 'Burkina Faso', 'Bulgaria', 'Bahrain', 'Burundi',\n",
       "       'Benin', 'Bermuda', 'Brunei', 'Bolivia', 'Brazil', 'Bahamas',\n",
       "       'Bhutan', 'Botswana', 'Belarus', 'Belize', 'Canada',\n",
       "       'Democratic Republic of the Congo', 'Central African Republic',\n",
       "       'Republic of the Congo', 'Switzerland', 'Ivory Coast',\n",
       "       'Cook Islands', 'Chile', 'Cameroon', 'China', 'Colombia',\n",
       "       'Costa Rica', 'Cuba', 'Cape Verde', 'Curaçao', 'Cyprus',\n",
       "       'Czech Republic', 'Germany', 'Djibouti', 'Denmark', 'Dominica',\n",
       "       'Dominican Republic', 'Algeria', 'Ecuador', 'Estonia', 'Egypt',\n",
       "       'Western Sahara', 'Eritrea', 'Spain', 'Ethiopia', 'Finland',\n",
       "       'Fiji', 'Falkland Islands', 'Micronesia', 'Faroe Islands',\n",
       "       'France', 'Gabon', 'United Kingdom', 'Grenada', 'Georgia',\n",
       "       'French Guiana', 'Guernsey', 'Ghana', 'Gibraltar', 'Greenland',\n",
       "       'Gambia', 'Guinea', 'Equatorial Guinea', 'Greece', 'Guatemala',\n",
       "       'Guam', 'Guinea-Bissau', 'Guyana', 'Hong Kong', 'Honduras',\n",
       "       'Croatia', 'Haiti', 'Hungary', 'Indonesia', 'Ireland', 'Israel',\n",
       "       'Isle of Man', 'India', 'Iraq', 'Iran', 'Iceland', 'Italy',\n",
       "       'Jersey', 'Jamaica', 'Jordan', 'Japan', 'Kenya', 'Kyrgyzstan',\n",
       "       'Cambodia', 'Kiribati', 'Comoros', 'Saint Kitts and Nevis',\n",
       "       'North Korea', 'South Korea', 'Kuwait', 'Cayman Islands',\n",
       "       'Kazakhstan', 'Laos', 'Lebanon', 'Saint Lucia', 'Liechtenstein',\n",
       "       'Sri Lanka', 'Liberia', 'Lesotho', 'Lithuania', 'Luxembourg',\n",
       "       'Latvia', 'Libya', 'Morocco', 'Monaco', 'Moldova', 'Montenegro',\n",
       "       'Madagascar', 'Marshall Islands', 'Macedonia', 'Mali', 'Myanmar',\n",
       "       'Mongolia', 'Macau', 'Northern Mariana Islands', 'Martinique',\n",
       "       'Mauritania', 'Montserrat', 'Malta', 'Mauritius', 'Maldives',\n",
       "       'Malawi', 'Mexico', 'Malaysia', 'Mozambique', 'Namibia',\n",
       "       'New Caledonia', 'Niger', 'Nigeria', 'Nicaragua', 'Netherlands',\n",
       "       'Norway', 'Nepal', 'Nauru', 'Niue', 'New Zealand', 'Oman',\n",
       "       'Panama', 'Peru', 'French Polynesia', 'Papua New Guinea',\n",
       "       'Philippines', 'Pakistan', 'Poland', 'Pitcairn Islands',\n",
       "       'Puerto Rico', 'Palestine', 'Portugal', 'Palau', 'Paraguay',\n",
       "       'Qatar', 'Réunion', 'Romania', 'Serbia', 'Russia', 'Rwanda',\n",
       "       'Saudi Arabia', 'Solomon Islands', 'Seychelles', 'Sudan', 'Sweden',\n",
       "       'Singapore', 'Saint Helena', 'Slovenia', 'Slovakia',\n",
       "       'Sierra Leone', 'San Marino', 'Senegal', 'Somalia', 'Suriname',\n",
       "       'South Sudan', 'São Tomé and Príncipe', 'El Salvador',\n",
       "       'Sint Maarten', 'Syria', 'Swaziland', 'Turks and Caicos Islands',\n",
       "       'Chad', 'Togo', 'Thailand', 'Tajikistan', 'Tokelau', 'East Timor',\n",
       "       'Turkmenistan', 'Tunisia', 'Tonga', 'Turkey',\n",
       "       'Trinidad and Tobago', 'Tuvalu', 'Taiwan', 'Tanzania', 'Ukraine',\n",
       "       'Uganda', 'United States of America', 'Uruguay', 'Uzbekistan',\n",
       "       'Vatican City', 'Saint Vincent and the Grenadines', 'Venezuela',\n",
       "       'British Virgin Islands', 'United States Virgin Islands',\n",
       "       'Vietnam', 'Vanuatu', 'Wallis and Futuna', 'Samoa', 'Kosovo',\n",
       "       'Yemen', 'Mayotte', 'South Africa', 'Zambia', 'Zimbabwe'],\n",
       "      dtype=object)"
      ]
     },
     "execution_count": 40,
     "metadata": {},
     "output_type": "execute_result"
    }
   ],
   "source": [
    "countries.country_name.unique()"
   ]
  },
  {
   "cell_type": "code",
   "execution_count": 41,
   "id": "average-boulder",
   "metadata": {},
   "outputs": [],
   "source": [
    "pais = countries[countries.country_name == 'Japan']"
   ]
  },
  {
   "cell_type": "code",
   "execution_count": 3,
   "id": "coupled-mainland",
   "metadata": {},
   "outputs": [
    {
     "ename": "",
     "evalue": "",
     "output_type": "error",
     "traceback": [
      "\u001b[1;31mCanceled future for execute_request message before replies were done"
     ]
    },
    {
     "ename": "",
     "evalue": "",
     "output_type": "error",
     "traceback": [
      "\u001b[1;31mThe Kernel crashed while executing code in the the current cell or a previous cell. Please review the code in the cell(s) to identify a possible cause of the failure. Click <a href='https://aka.ms/vscodeJupyterKernelCrash'>here</a> for more info. View Jupyter <a href='command:jupyter.viewOutput'>log</a> for further details."
     ]
    }
   ],
   "source": [
    "dataEstados = data[(data.country_code == 'JP') & (data.aggregation_level == 1)]\n",
    "dataEstados = dataEstados.drop(columns=['subregion2_code', 'subregion2_name'])\n",
    "dataEstados.rename(columns = {\"subregion1_name\": \"estado\"}, inplace=True)"
   ]
  },
  {
   "cell_type": "code",
   "execution_count": null,
   "id": "postal-easter",
   "metadata": {},
   "outputs": [
    {
     "data": {
      "text/plain": [
       "array(['Hokkaido', 'Aomori', 'Iwate', 'Miyagi', 'Akita', 'Yamagata',\n",
       "       'Fukushima', 'Ibaraki', 'Tochigi', 'Gunma', 'Saitama', 'Chiba',\n",
       "       'Tokyo', 'Kanagawa', 'Niigata', 'Toyama', 'Ishikawa', 'Fukui',\n",
       "       'Yamanashi', 'Nagano', 'Gifu', 'Shizuoka', 'Aichi', 'Mie', 'Shiga',\n",
       "       'Kyoto', 'Osaka', 'Hyōgo', 'Nara', 'Wakayama', 'Tottori',\n",
       "       'Shimane', 'Okayama', 'Hiroshima', 'Yamaguchi', 'Tokushima',\n",
       "       'Kagawa', 'Ehime', 'Kōchi', 'Fukuoka', 'Saga', 'Nagasaki',\n",
       "       'Kumamoto', 'Ōita', 'Miyazaki', 'Kagoshima', 'Okinawa'],\n",
       "      dtype=object)"
      ]
     },
     "execution_count": 43,
     "metadata": {},
     "output_type": "execute_result"
    }
   ],
   "source": [
    "dataEstados.estado.unique()"
   ]
  },
  {
   "cell_type": "code",
   "execution_count": null,
   "metadata": {},
   "outputs": [],
   "source": []
  },
  {
   "cell_type": "code",
   "execution_count": 44,
   "id": "2f65c0bc",
   "metadata": {},
   "outputs": [],
   "source": [
    "dataEstados.to_csv(\"japao_estados.csv\")"
   ]
  },
  {
   "cell_type": "code",
   "execution_count": 51,
   "id": "promising-circle",
   "metadata": {},
   "outputs": [],
   "source": [
    "est = dataEstados[dataEstados.estado == 'Tokyo']"
   ]
  },
  {
   "cell_type": "code",
   "execution_count": 52,
   "id": "sustained-affiliate",
   "metadata": {},
   "outputs": [
    {
     "data": {
      "text/plain": [
       "<AxesSubplot:>"
      ]
     },
     "execution_count": 52,
     "metadata": {},
     "output_type": "execute_result"
    },
    {
     "data": {
      "image/png": "[encoded data removed]",
      "text/plain": [
       "<Figure size 432x288 with 1 Axes>"
      ]
     },
     "metadata": {
      "needs_background": "light"
     },
     "output_type": "display_data"
    }
   ],
   "source": [
    "est.new_confirmed.plot()"
   ]
  },
  {
   "cell_type": "code",
   "execution_count": 53,
   "id": "da5272b7",
   "metadata": {},
   "outputs": [
    {
     "data": {
      "text/plain": [
       "<AxesSubplot:>"
      ]
     },
     "execution_count": 53,
     "metadata": {},
     "output_type": "execute_result"
    },
    {
     "data": {
      "image/png": "[encoded data removed]",
      "text/plain": [
       "<Figure size 432x288 with 1 Axes>"
      ]
     },
     "metadata": {
      "needs_background": "light"
     },
     "output_type": "display_data"
    }
   ],
   "source": [
    "est.cumulative_confirmed.plot()"
   ]
  },
  {
   "cell_type": "code",
   "execution_count": 54,
   "id": "defensive-picture",
   "metadata": {},
   "outputs": [],
   "source": [
    "#dataEstados.to_csv(\"japao_estados.csv\")"
   ]
  },
  {
   "cell_type": "markdown",
   "id": "brutal-trading",
   "metadata": {},
   "source": [
    "## A nível de cidades"
   ]
  },
  {
   "cell_type": "code",
   "execution_count": 55,
   "id": "european-geometry",
   "metadata": {},
   "outputs": [],
   "source": [
    "sr2 =  data[data.aggregation_level == 2]"
   ]
  },
  {
   "cell_type": "code",
   "execution_count": 56,
   "id": "naval-holly",
   "metadata": {},
   "outputs": [
    {
     "data": {
      "text/plain": [
       "array(['Argentina', 'Austria', 'Bangladesh', 'Brazil', 'Canada', 'Chile',\n",
       "       'Colombia', 'Czech Republic', 'Germany', 'Spain', 'France',\n",
       "       'United Kingdom', 'Indonesia', 'Israel', 'India', 'Italy', 'Libya',\n",
       "       'Mexico', 'Netherlands', 'Peru', 'Philippines', 'Poland',\n",
       "       'Sierra Leone', 'United States of America', 'South Africa'],\n",
       "      dtype=object)"
      ]
     },
     "execution_count": 56,
     "metadata": {},
     "output_type": "execute_result"
    }
   ],
   "source": [
    "sr2.country_name.unique()"
   ]
  },
  {
   "cell_type": "code",
   "execution_count": 60,
   "id": "enabling-library",
   "metadata": {},
   "outputs": [],
   "source": [
    "pais = sr2[sr2.country_name == 'Japan']\n",
    "pais.rename(columns = {\"subregion2_name\": \"cidade\"}, inplace=True)"
   ]
  },
  {
   "cell_type": "code",
   "execution_count": 59,
   "id": "funded-russia",
   "metadata": {},
   "outputs": [
    {
     "name": "stdout",
     "output_type": "stream",
     "text": [
      "[]\n"
     ]
    }
   ],
   "source": [
    "city_list = pais.cidade.unique().tolist()\n",
    "city_list.sort()\n",
    "print(city_list)"
   ]
  },
  {
   "cell_type": "code",
   "execution_count": null,
   "id": "announced-significance",
   "metadata": {},
   "outputs": [],
   "source": [
    "cid = pais[pais.cidade == 'Rosario']"
   ]
  },
  {
   "cell_type": "code",
   "execution_count": null,
   "id": "municipal-vector",
   "metadata": {},
   "outputs": [],
   "source": [
    "plt.plot(cid.new_deceased)\n",
    "plt.show()"
   ]
  },
  {
   "cell_type": "code",
   "execution_count": null,
   "id": "e277ce62",
   "metadata": {},
   "outputs": [],
   "source": [
    "cid.cumulative_deceased.plot()"
   ]
  },
  {
   "cell_type": "code",
   "execution_count": null,
   "id": "olympic-threshold",
   "metadata": {},
   "outputs": [],
   "source": [
    "#pais.to_csv(\"obitos_argentina_cidades.csv\")\n"
   ]
  },
  {
   "cell_type": "code",
   "execution_count": null,
   "id": "wooden-delivery",
   "metadata": {},
   "outputs": [],
   "source": []
  }
 ],
 "metadata": {
  "kernelspec": {
   "display_name": "Python 3.9.12 ('base')",
   "language": "python",
   "name": "python3"
  },
  "language_info": {
   "codemirror_mode": {
    "name": "ipython",
    "version": 3
   },
   "file_extension": ".py",
   "mimetype": "text/x-python",
   "name": "python",
   "nbconvert_exporter": "python",
   "pygments_lexer": "ipython3",
   "version": "3.9.12"
  },
  "vscode": {
   "interpreter": {
    "hash": "b24b8ed51a31327a8c84508a7fa8c17480e608d05bef6c65a4fe457e76a67852"
   }
  }
 },
 "nbformat": 4,
 "nbformat_minor": 5
}
