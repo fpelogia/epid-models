{
 "cells": [
  {
   "cell_type": "markdown",
   "metadata": {},
   "source": [
    "## Estudo de critérios de transição de sigmoides para modelagem matemática de múltiplas ondas epidemiológicas\n",
    "\n",
    "Testando diferentes filtros"
   ]
  },
  {
   "cell_type": "markdown",
   "metadata": {},
   "source": [
    "Importando bibliotecas e módulos implementados"
   ]
  },
  {
   "cell_type": "code",
   "execution_count": null,
   "metadata": {},
   "outputs": [],
   "source": [
    "# External libraries\n",
    "import numpy as np\n",
    "import pandas as pd\n",
    "import matplotlib.pyplot as plt\n",
    "from scipy.signal import butter, lfilter\n",
    "\n",
    "# Implemented modules\n",
    "import optimize\n",
    "# Obs: modified version of the new_wave module\n",
    "import new_wave_filt\n",
    "from new_wave_filt import get_transition_points"
   ]
  },
  {
   "cell_type": "markdown",
   "metadata": {},
   "source": [
    "Carregando dados"
   ]
  },
  {
   "cell_type": "code",
   "execution_count": null,
   "metadata": {},
   "outputs": [],
   "source": [
    "# Import data\n",
    "data = pd.read_csv(\"../Datasets/osaka.csv\") \n",
    "city_name = 'Osaka' \n",
    "indicator='cases'"
   ]
  },
  {
   "cell_type": "code",
   "execution_count": null,
   "metadata": {},
   "outputs": [],
   "source": [
    "if(indicator == 'deaths'):\n",
    "    #deaths\n",
    "    acc_data = data.cumulative_deceased\n",
    "else:\n",
    "    # cases\n",
    "    #acc_data = data.total_confirmed\n",
    "    acc_data = data.cumulative_confirmed #(Japan)\n",
    "\n",
    "normalized_acc_data = acc_data / max(acc_data)\n",
    "t = np.linspace(0, len(acc_data)-1, len(acc_data))\n",
    "\n",
    "normalized_acc_data = normalized_acc_data.tolist()\n",
    "\n",
    "if(indicator == 'deaths'):\n",
    "    daily_data = data.new_deceased\n",
    "else:\n",
    "    daily_data = data.new_confirmed\n",
    "\n",
    "\n",
    "scaling_factor = 500\n",
    "acc_data = acc_data / scaling_factor\n",
    "daily_data = list(daily_data/ scaling_factor)"
   ]
  },
  {
   "cell_type": "markdown",
   "metadata": {},
   "source": [
    "Definindo condições iniciais de cada sigmoide no modelo"
   ]
  },
  {
   "cell_type": "code",
   "execution_count": null,
   "metadata": {},
   "outputs": [],
   "source": [
    "# Initial Conditions\n",
    "\n",
    "def initial_cond_0(y_t):\n",
    "    #A0 = 100\n",
    "    A0 = 2*max(y_t)\n",
    "    tp0 = (2/3)*len(y_t)\n",
    "    delta0 = (1/4)*len(y_t)\n",
    "    nu0 = 1\n",
    "    return [A0, tp0, delta0, nu0]\n",
    "\n",
    "optimize.initial_cond = initial_cond_0\n",
    "\n",
    "def update_cond_nw(A0, tp0):\n",
    "    tp0 += 150\n",
    "    A0 *= 0.005\n",
    "    return [A0, tp0]\n",
    "optimize.update_cond = update_cond_nw"
   ]
  },
  {
   "cell_type": "markdown",
   "metadata": {},
   "source": [
    "## Testando diferentes filtros"
   ]
  },
  {
   "cell_type": "code",
   "execution_count": null,
   "metadata": {},
   "outputs": [],
   "source": [
    "# Moving average filter\n",
    "def moving_average(x, win_size):\n",
    "    filtered = np.convolve(x, np.ones(win_size), 'valid') / win_size\n",
    "    filtered = np.append(np.zeros(win_size-1), filtered) # fill the w-1 first slots with zeros\n",
    "    return filtered\n",
    "\n",
    "# Median filter\n",
    "def median_filter(x, win_size):\n",
    "    S = 1\n",
    "    nrows = ((x.size-win_size)//S)+1\n",
    "    n = x.strides[0]\n",
    "    strided = np.lib.stride_tricks.as_strided(x, shape=(nrows,win_size), strides=(S*n,n))\n",
    "    filtered  = np.median(strided,axis=1)\n",
    "    filtered = np.append(np.zeros(win_size-1), filtered) # fill the w-1 first slots with zeros\n",
    "    return filtered\n",
    "\n",
    "def butterworth_lowpass_filter(data, cutoff_freq, fs, order=2):\n",
    "    #fs is the sampling rate\n",
    "    nyq = 0.5 * fs\n",
    "    normal_cutoff = cutoff_freq / nyq\n",
    "    b, a = butter(order, normal_cutoff, btype='low', analog=False)\n",
    "    # lfilter apply filter along one dimension\n",
    "    y = lfilter(b, a, data)\n",
    "    return y"
   ]
  },
  {
   "cell_type": "markdown",
   "metadata": {},
   "source": [
    "### 1 - Filtros padrão"
   ]
  },
  {
   "cell_type": "code",
   "execution_count": null,
   "metadata": {},
   "outputs": [],
   "source": [
    "def filter_data(data):    \n",
    "\n",
    "    plt.figure(figsize=(12, 6))\n",
    "    plt.title(f\"Filtering process - {city_name}\")\n",
    "    plt.xlabel(\"t (days)\")\n",
    "    plt.ylabel(\"cases / day\")\n",
    "\n",
    "    # Plotting unfiltered version\n",
    "    plt.plot(data, label=\"unfiltered\", c='silver', linestyle='dashed')\n",
    "\n",
    "    # Moving average with 14-day window\n",
    "    filtered_data = moving_average(data, 14)\n",
    "    plt.plot(filtered_data, label=\"filtered (ma-14)\")\n",
    "    \n",
    "    # 2nd Order Low-Pass Filter with 14-day window\n",
    "    order = 2\n",
    "    fs = len(data) # sampling rate       \n",
    "    cutoff = 14 # cutoff freq.\n",
    "    filtered_data =  butterworth_lowpass_filter(filtered_data, cutoff, fs, order)\n",
    "    plt.plot(filtered_data, label=\"filtered (ma-14 + bw-low-pass)\")\n",
    "\n",
    "    # Median filter with 14-day window\n",
    "    filtered_data = median_filter(filtered_data, 14)\n",
    "    plt.plot(filtered_data, label=\"filtered (ma-14 + bw-low-pass + median-14)\")\n",
    "\n",
    "    # Reduce the delay effect introduced by the filtering process\n",
    "    # Advance the signal by 25 days\n",
    "    n_days_shift = 25\n",
    "    filtered_data = filtered_data[n_days_shift:]    \n",
    "    plt.plot(filtered_data, label=f\"shifted signal ({n_days_shift} days)\")\n",
    "\n",
    "    plt.legend()\n",
    "    plt.show()\n",
    "\n",
    "    return filtered_data\n",
    "\n",
    "new_wave_filt.filter_data = filter_data\n",
    "\n",
    "# =================================================================================================\n",
    "\n",
    "# Transition Points\n",
    "x_nw = get_transition_points(acc_data, visual=True, threshold=2e-6, indicator = indicator)\n",
    "x_nw = x_nw[1:6]\n",
    "\n",
    "print('x_nw:', x_nw)\n",
    "\n",
    "sig_params = optimize.fit_data(acc_data, \n",
    "                               daily_data, \n",
    "                               city_name, \n",
    "                               x_nw, \n",
    "                               indicator = indicator, \n",
    "                               n_weeks_pred = 0,\n",
    "                               scaling_factor = scaling_factor\n",
    "                            )"
   ]
  },
  {
   "cell_type": "code",
   "execution_count": null,
   "metadata": {},
   "outputs": [],
   "source": [
    "sig_params"
   ]
  },
  {
   "cell_type": "markdown",
   "metadata": {},
   "source": [
    "### 2 - Só média móvel"
   ]
  },
  {
   "cell_type": "code",
   "execution_count": null,
   "metadata": {},
   "outputs": [],
   "source": [
    "def filter_data(data):    \n",
    "\n",
    "    plt.figure(figsize=(12, 6))\n",
    "    plt.title(f\"Filtering process - {city_name}\")\n",
    "    plt.xlabel(\"t (days)\")\n",
    "    plt.ylabel(\"cases / day\")\n",
    "\n",
    "    # Plotting unfiltered version\n",
    "    plt.plot(data, label=\"unfiltered\", c='silver', linestyle='dashed')\n",
    "\n",
    "    # Moving average with 21-day window\n",
    "    filtered_data = moving_average(data, 21)\n",
    "    plt.plot(filtered_data, label=\"filtered (ma-21)\")\n",
    "\n",
    "    plt.legend()\n",
    "    plt.show()\n",
    "\n",
    "    return filtered_data\n",
    "\n",
    "new_wave_filt.filter_data = filter_data\n",
    "\n",
    "# =================================================================================================\n",
    "\n",
    "# Transition Points\n",
    "x_nw = get_transition_points(acc_data, visual=True, threshold=2e-6, indicator = indicator)\n",
    "x_nw = x_nw[1:6]\n",
    "\n",
    "print('x_nw:', x_nw)\n",
    "\n",
    "sig_params = optimize.fit_data(acc_data, \n",
    "                               daily_data, \n",
    "                               city_name, \n",
    "                               x_nw, \n",
    "                               indicator = indicator, \n",
    "                               n_weeks_pred = 0,\n",
    "                               scaling_factor = scaling_factor\n",
    "                            )"
   ]
  },
  {
   "cell_type": "code",
   "execution_count": null,
   "metadata": {},
   "outputs": [],
   "source": []
  },
  {
   "cell_type": "markdown",
   "metadata": {},
   "source": [
    "### 3 - Só filtro butterworth + avanço do sinal"
   ]
  },
  {
   "cell_type": "code",
   "execution_count": null,
   "metadata": {},
   "outputs": [],
   "source": [
    "def filter_data(data):    \n",
    "\n",
    "    plt.figure(figsize=(12, 6))\n",
    "    plt.title(f\"Filtering process - {city_name}\")\n",
    "    plt.xlabel(\"t (days)\")\n",
    "    plt.ylabel(\"cases / day\")\n",
    "\n",
    "    # Plotting unfiltered version\n",
    "    plt.plot(data, label=\"unfiltered\", c='silver', linestyle='dashed')\n",
    "\n",
    "    # 2nd Order Low-Pass Filter with 14-day window\n",
    "    order = 2\n",
    "    fs = len(data) # sampling rate       \n",
    "    cutoff = 14 # cutoff freq.\n",
    "    filtered_data =  butterworth_lowpass_filter(data, cutoff, fs, order)\n",
    "    plt.plot(filtered_data, label=\"filtered (bw-low-pass)\")\n",
    "\n",
    "    # Reduce the delay effect introduced by the filtering process\n",
    "    # Advance the signal by 15 days\n",
    "    n_days_shift = 15\n",
    "    filtered_data = filtered_data[n_days_shift:]    \n",
    "    plt.plot(filtered_data, label=f\"shifted signal ({n_days_shift} days)\")\n",
    "\n",
    "    plt.legend()\n",
    "    plt.show()\n",
    "\n",
    "    return filtered_data\n",
    "\n",
    "new_wave_filt.filter_data = filter_data\n",
    "\n",
    "# =================================================================================================\n",
    "\n",
    "# Transition Points\n",
    "x_nw = get_transition_points(acc_data, visual=True, threshold=2e-6, indicator = indicator)\n",
    "x_nw = x_nw[1:6]\n",
    "\n",
    "print('x_nw:', x_nw)\n",
    "\n",
    "sig_params = optimize.fit_data(acc_data, \n",
    "                               daily_data, \n",
    "                               city_name, \n",
    "                               x_nw, \n",
    "                               indicator = indicator, \n",
    "                               n_weeks_pred = 0,\n",
    "                               scaling_factor = scaling_factor\n",
    "                            )"
   ]
  },
  {
   "cell_type": "markdown",
   "metadata": {},
   "source": [
    "### 4 - Só mediana + avanço"
   ]
  },
  {
   "cell_type": "code",
   "execution_count": null,
   "metadata": {},
   "outputs": [],
   "source": [
    "def filter_data(data):    \n",
    "\n",
    "    plt.figure(figsize=(12, 6))\n",
    "    plt.title(f\"Filtering process - {city_name}\")\n",
    "    plt.xlabel(\"t (days)\")\n",
    "    plt.ylabel(\"cases / day\")\n",
    "\n",
    "    # Plotting unfiltered version\n",
    "    plt.plot(data, label=\"unfiltered\", c='silver', linestyle='dashed')\n",
    "\n",
    "    # Median filter with 14-day window\n",
    "    filtered_data = median_filter(data, 14)\n",
    "    plt.plot(filtered_data, label=\"filtered (ma-14 + bw-low-pass + median-14)\")\n",
    "\n",
    "    # Reduce the delay effect introduced by the filtering process\n",
    "    # Advance the signal by 5 days\n",
    "    n_days_shift = 5\n",
    "    filtered_data = filtered_data[n_days_shift:]    \n",
    "    plt.plot(filtered_data, label=f\"shifted signal ({n_days_shift} days)\")\n",
    "\n",
    "    plt.legend()\n",
    "    plt.show()\n",
    "\n",
    "    return filtered_data\n",
    "\n",
    "new_wave_filt.filter_data = filter_data\n",
    "\n",
    "# =================================================================================================\n",
    "\n",
    "# Transition Points\n",
    "x_nw = get_transition_points(acc_data, visual=True, threshold=2e-6, indicator = indicator)\n",
    "x_nw = x_nw[1:6]\n",
    "\n",
    "print('x_nw:', x_nw)\n",
    "\n",
    "sig_params = optimize.fit_data(acc_data, \n",
    "                               daily_data, \n",
    "                               city_name, \n",
    "                               x_nw, \n",
    "                               indicator = indicator, \n",
    "                               n_weeks_pred = 0,\n",
    "                               scaling_factor = scaling_factor\n",
    "                            )"
   ]
  },
  {
   "cell_type": "markdown",
   "metadata": {},
   "source": [
    "### 5 - Média móvel + Mediana + avanço"
   ]
  },
  {
   "cell_type": "code",
   "execution_count": null,
   "metadata": {},
   "outputs": [],
   "source": [
    "def filter_data(data):    \n",
    "\n",
    "    plt.figure(figsize=(12, 6))\n",
    "    plt.title(f\"Filtering process - {city_name}\")\n",
    "    plt.xlabel(\"t (days)\")\n",
    "    plt.ylabel(\"cases / day\")\n",
    "\n",
    "    # Plotting unfiltered version\n",
    "    plt.plot(data, label=\"unfiltered\", c='silver', linestyle='dashed')\n",
    "\n",
    "    # Moving average with 14-day window\n",
    "    filtered_data = moving_average(data, 14)\n",
    "    plt.plot(filtered_data, label=\"filtered (ma-14)\")\n",
    "    # Median filter with 14-day window\n",
    "    filtered_data = median_filter(filtered_data, 14)\n",
    "    plt.plot(filtered_data, label=\"filtered (ma-14 + median-14)\")\n",
    "\n",
    "    # Reduce the delay effect introduced by the filtering process\n",
    "    # Advance the signal by 25 days\n",
    "    n_days_shift = 10\n",
    "    filtered_data = filtered_data[n_days_shift:]    \n",
    "    plt.plot(filtered_data, label=f\"shifted signal ({n_days_shift} days)\")\n",
    "\n",
    "    plt.legend()\n",
    "    plt.show()\n",
    "\n",
    "    return filtered_data\n",
    "\n",
    "new_wave_filt.filter_data = filter_data\n",
    "\n",
    "# =================================================================================================\n",
    "\n",
    "# Transition Points\n",
    "x_nw = get_transition_points(acc_data, visual=True, threshold=2e-6, indicator = indicator)\n",
    "x_nw = x_nw[1:6]\n",
    "\n",
    "print('x_nw:', x_nw)\n",
    "\n",
    "sig_params = optimize.fit_data(acc_data, \n",
    "                               daily_data, \n",
    "                               city_name, \n",
    "                               x_nw, \n",
    "                               indicator = indicator, \n",
    "                               n_weeks_pred = 0,\n",
    "                               scaling_factor = scaling_factor\n",
    "                            )"
   ]
  },
  {
   "cell_type": "markdown",
   "metadata": {},
   "source": [
    "### Bônus - Experimentando frequência de corte do Butterworth\n",
    "Teste antigo que fiz, mas agora com dados do Japão"
   ]
  },
  {
   "cell_type": "code",
   "execution_count": null,
   "metadata": {},
   "outputs": [],
   "source": [
    "plt.figure(figsize=(12,6))\n",
    "plt.title(\"Experimenting with Butterworth filter's cutoff frequency\")\n",
    "plt.xlabel(\"t (days)\")\n",
    "plt.ylabel(\"cases / day\")\n",
    "\n",
    "unf_daily_n_cases = daily_data\n",
    "\n",
    "plt.plot(unf_daily_n_cases, label=\"unfiltered\", c='silver', linestyle='dashed')\n",
    "\n",
    "order = 2\n",
    "fs = len(data) # sampling rate       \n",
    "\n",
    "cutoff = 2 # cutoff freq.\n",
    "filtered =  butterworth_lowpass_filter(unf_daily_n_cases, cutoff, fs, order)\n",
    "plt.plot(filtered, label=f\"cutoff = {cutoff}\")\n",
    "\n",
    "cutoff = 7 # cutoff freq.\n",
    "filtered =  butterworth_lowpass_filter(unf_daily_n_cases, cutoff, fs, order)\n",
    "plt.plot(filtered, label=f\"cutoff = {cutoff}\")\n",
    "\n",
    "cutoff = 14 # cutoff freq.\n",
    "filtered =  butterworth_lowpass_filter(unf_daily_n_cases, cutoff, fs, order)\n",
    "plt.plot(filtered, label=f\"cutoff = {cutoff}\")\n",
    "\n",
    "cutoff = 30 # cutoff freq.\n",
    "filtered =  butterworth_lowpass_filter(unf_daily_n_cases, cutoff, fs, order)\n",
    "plt.plot(filtered, label=f\"cutoff = {cutoff}\")\n",
    "\n",
    "plt.legend()\n",
    "plt.show()\n"
   ]
  }
 ],
 "metadata": {
  "kernelspec": {
   "display_name": "Python 3.9.2 64-bit",
   "language": "python",
   "name": "python3"
  },
  "language_info": {
   "codemirror_mode": {
    "name": "ipython",
    "version": 3
   },
   "file_extension": ".py",
   "mimetype": "text/x-python",
   "name": "python",
   "nbconvert_exporter": "python",
   "pygments_lexer": "ipython3",
   "version": "3.9.2"
  },
  "orig_nbformat": 4,
  "vscode": {
   "interpreter": {
    "hash": "916dbcbb3f70747c44a77c7bcd40155683ae19c65e1c03b4aa3499c5328201f1"
   }
  }
 },
 "nbformat": 4,
 "nbformat_minor": 2
}
